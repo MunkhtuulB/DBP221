{
 "cells": [
  {
   "cell_type": "code",
   "execution_count": 1,
   "metadata": {},
   "outputs": [
    {
     "name": "stdout",
     "output_type": "stream",
     "text": [
      "python\n",
      "php\n",
      "java\n"
     ]
    }
   ],
   "source": [
    "# 1\n",
    "x = ['python', 'php', 'java']\n",
    "for i in x:\n",
    "    print(i)"
   ]
  },
  {
   "cell_type": "code",
   "execution_count": 2,
   "metadata": {},
   "outputs": [
    {
     "name": "stdout",
     "output_type": "stream",
     "text": [
      "64\n"
     ]
    }
   ],
   "source": [
    "# 2\n",
    "y = [1, 5, 10, 3, 4, 17, 12, 1, 2, 9]\n",
    "niilber = 0\n",
    "for i in range(10):\n",
    "    niilber = niilber + y[i]\n",
    "print(niilber)"
   ]
  },
  {
   "cell_type": "code",
   "execution_count": 3,
   "metadata": {},
   "outputs": [
    {
     "name": "stdout",
     "output_type": "stream",
     "text": [
      "120\n"
     ]
    }
   ],
   "source": [
    "# 3\n",
    "x = [1, 2, 3, 4, 5]\n",
    "\n",
    "def urjver(x):\n",
    "    urjvr = 1\n",
    "    for i in range(5):\n",
    "        urjvr = urjvr * x[i]\n",
    "    print(urjvr)\n",
    "\n",
    "urjver(x)"
   ]
  },
  {
   "cell_type": "code",
   "execution_count": 4,
   "metadata": {},
   "outputs": [
    {
     "data": {
      "text/plain": [
       "20"
      ]
     },
     "execution_count": 4,
     "metadata": {},
     "output_type": "execute_result"
    }
   ],
   "source": [
    "# 4\n",
    "def f(x):\n",
    "    y = x[3] * x[-1]\n",
    "    return y\n",
    "\n",
    "x = [1, 2, 3, 4, 5]\n",
    "f(x)"
   ]
  },
  {
   "cell_type": "code",
   "execution_count": 50,
   "metadata": {},
   "outputs": [
    {
     "data": {
      "text/plain": [
       "(2, 20)"
      ]
     },
     "execution_count": 50,
     "metadata": {},
     "output_type": "execute_result"
    }
   ],
   "source": [
    "# 5\n",
    "def XIXB(x):\n",
    "    x.sort()\n",
    "    a = x[0]\n",
    "    b = x[-1]\n",
    "    return (a, b)\n",
    "\n",
    "x = [5, 10, 20, 2, 6]\n",
    "XIXB(x)\n"
   ]
  },
  {
   "cell_type": "code",
   "execution_count": 51,
   "metadata": {},
   "outputs": [
    {
     "name": "stdout",
     "output_type": "stream",
     "text": [
      "2\n"
     ]
    }
   ],
   "source": [
    "# 6\n",
    "def scount(x):\n",
    "    y = 0\n",
    "    for i in x:\n",
    "        if len(i) > 1:\n",
    "            if i[0] == i[-1]:\n",
    "                y = y + 1\n",
    "    print(y)\n",
    "    \n",
    "x = ['abdba', 'abcd', '121']\n",
    "scount(x)"
   ]
  },
  {
   "cell_type": "code",
   "execution_count": 49,
   "metadata": {},
   "outputs": [
    {
     "name": "stdout",
     "output_type": "stream",
     "text": [
      "['abcd', '121', 'abdba']\n"
     ]
    }
   ],
   "source": [
    "# 7\n",
    "x = ['abdba', 'abcd', '121', '121', 'abcd' ]\n",
    "y = set(x)\n",
    "x = list(y)\n",
    "print(x)"
   ]
  },
  {
   "cell_type": "code",
   "execution_count": 55,
   "metadata": {},
   "outputs": [
    {
     "name": "stdout",
     "output_type": "stream",
     "text": [
      "Hooson bish baina\n"
     ]
    }
   ],
   "source": [
    "# 8\n",
    "def empty(x):\n",
    "    if len(x) == 0:\n",
    "        print('Hooson baina')\n",
    "    else:\n",
    "        print('Hooson bish baina')\n",
    "    \n",
    "x = [0]\n",
    "empty(x)"
   ]
  },
  {
   "cell_type": "code",
   "execution_count": 60,
   "metadata": {},
   "outputs": [
    {
     "name": "stdout",
     "output_type": "stream",
     "text": [
      "[1, 2, 3, 4, 6, 8, 10]\n"
     ]
    }
   ],
   "source": [
    "# 9\n",
    "x = [1, 2, 3, 4, 5, 6, 7, 8, 9, 10]\n",
    "x.pop(4)\n",
    "x.pop(5)\n",
    "x.pop(6)\n",
    "print(x)"
   ]
  },
  {
   "cell_type": "code",
   "execution_count": 62,
   "metadata": {},
   "outputs": [
    {
     "name": "stdout",
     "output_type": "stream",
     "text": [
      "(1, 2, 3, 4, 5, 6, 7, 8, 9)\n"
     ]
    }
   ],
   "source": [
    "# 10\n",
    "x = (1, 2, 3, 4, 5, 6, 7, 8, 9)\n",
    "print(x)"
   ]
  },
  {
   "cell_type": "code",
   "execution_count": 65,
   "metadata": {},
   "outputs": [
    {
     "name": "stdout",
     "output_type": "stream",
     "text": [
      "('orange', 'apple', 'pear', 'banana', 'kiwi', 'apple', 'banana', 'pear')\n"
     ]
    }
   ],
   "source": [
    "# 11\n",
    "x = ('orange', 'apple', 'pear', 'banana', 'kiwi', 'apple', 'banana')\n",
    "y = list(x)\n",
    "y.append('pear')\n",
    "x = tuple(y)\n",
    "print(x)"
   ]
  },
  {
   "cell_type": "code",
   "execution_count": 67,
   "metadata": {},
   "outputs": [
    {
     "name": "stdout",
     "output_type": "stream",
     "text": [
      "pear\n",
      "apple\n"
     ]
    }
   ],
   "source": [
    "# 12\n",
    "x = ('orange', 'apple', 'pear', 'banana', 'kiwi', 'apple', 'banana')\n",
    "y = list(x)\n",
    "print(x[2])\n",
    "print(x[-2])"
   ]
  },
  {
   "cell_type": "code",
   "execution_count": 75,
   "metadata": {},
   "outputs": [
    {
     "name": "stdout",
     "output_type": "stream",
     "text": [
      "pineapple\n",
      "Baihgui\n"
     ]
    }
   ],
   "source": [
    "# 13\n",
    "x = ('orange', 'apple', 'pear', 'banana', 'kiwi', 'apple', 'banana')\n",
    "a = input()\n",
    "y = 0\n",
    "for i in x:\n",
    "    if a == i:\n",
    "        y = y + 1\n",
    "if y == 0:\n",
    "    print('Baihgui')\n",
    "else:\n",
    "    print('Baina')"
   ]
  },
  {
   "cell_type": "code",
   "execution_count": 76,
   "metadata": {},
   "outputs": [
    {
     "name": "stdout",
     "output_type": "stream",
     "text": [
      "orange\n",
      "apple\n",
      "pear\n",
      "banana\n",
      "kiwi\n",
      "apple\n",
      "banana\n"
     ]
    }
   ],
   "source": [
    "# 14\n",
    "x = ('orange', 'apple', 'pear', 'banana', 'kiwi', 'apple', 'banana')\n",
    "y = list(x)\n",
    "for i in y:\n",
    "    print(i)"
   ]
  },
  {
   "cell_type": "code",
   "execution_count": 79,
   "metadata": {},
   "outputs": [
    {
     "name": "stdout",
     "output_type": "stream",
     "text": [
      "{'orange', 'banana', 'pineapple', 'apple', 'kiwi', 'pear'}\n"
     ]
    }
   ],
   "source": [
    "# 15\n",
    "set_1 = {'orange', 'apple', 'pear', 'banana'}\n",
    "set_2 = {'kiwi', 'apple', 'banana', 'pineapple'}\n",
    "Newset = set_1.union(set_2)\n",
    "print(Newset)"
   ]
  },
  {
   "cell_type": "code",
   "execution_count": 80,
   "metadata": {},
   "outputs": [
    {
     "name": "stdout",
     "output_type": "stream",
     "text": [
      "{'apple', 'banana'}\n"
     ]
    }
   ],
   "source": [
    "# 16\n",
    "set_1 = {'orange', 'apple', 'pear', 'banana'}\n",
    "set_2 = {'kiwi', 'apple', 'banana', 'pineapple'}\n",
    "Newset = set_1.intersection(set_2)\n",
    "print(Newset)"
   ]
  },
  {
   "cell_type": "code",
   "execution_count": 81,
   "metadata": {},
   "outputs": [
    {
     "name": "stdout",
     "output_type": "stream",
     "text": [
      "5\n"
     ]
    }
   ],
   "source": [
    "# 17\n",
    "x = {'orange', 'apple', 'pear', 'banana', 'kiwi', 'apple', 'banana'}\n",
    "print(len(x))"
   ]
  },
  {
   "cell_type": "code",
   "execution_count": 85,
   "metadata": {},
   "outputs": [
    {
     "name": "stdout",
     "output_type": "stream",
     "text": [
      "kiwi\n",
      "{'orange', 'banana', 'apple', 'pear'}\n"
     ]
    }
   ],
   "source": [
    "# 18\n",
    "x = {'orange', 'apple', 'pear', 'banana', 'kiwi', 'apple', 'banana'}\n",
    "a = input()\n",
    "x.discard(a)\n",
    "print(x)"
   ]
  },
  {
   "cell_type": "code",
   "execution_count": 87,
   "metadata": {},
   "outputs": [
    {
     "name": "stdout",
     "output_type": "stream",
     "text": [
      "set()\n"
     ]
    }
   ],
   "source": [
    "# 19\n",
    "x = {'orange', 'apple', 'pear', 'banana', 'kiwi', 'apple', 'banana'}\n",
    "x.clear()\n",
    "print(x)"
   ]
  },
  {
   "cell_type": "code",
   "execution_count": 89,
   "metadata": {},
   "outputs": [
    {
     "ename": "NameError",
     "evalue": "name 'x' is not defined",
     "output_type": "error",
     "traceback": [
      "\u001b[1;31m---------------------------------------------------------------------------\u001b[0m",
      "\u001b[1;31mNameError\u001b[0m                                 Traceback (most recent call last)",
      "\u001b[1;32m<ipython-input-89-5e95570cc25e>\u001b[0m in \u001b[0;36m<module>\u001b[1;34m\u001b[0m\n\u001b[0;32m      2\u001b[0m \u001b[0mx\u001b[0m \u001b[1;33m=\u001b[0m \u001b[1;33m{\u001b[0m\u001b[1;34m'orange'\u001b[0m\u001b[1;33m,\u001b[0m \u001b[1;34m'apple'\u001b[0m\u001b[1;33m,\u001b[0m \u001b[1;34m'pear'\u001b[0m\u001b[1;33m,\u001b[0m \u001b[1;34m'banana'\u001b[0m\u001b[1;33m,\u001b[0m \u001b[1;34m'kiwi'\u001b[0m\u001b[1;33m,\u001b[0m \u001b[1;34m'apple'\u001b[0m\u001b[1;33m,\u001b[0m \u001b[1;34m'banana'\u001b[0m\u001b[1;33m}\u001b[0m\u001b[1;33m\u001b[0m\u001b[1;33m\u001b[0m\u001b[0m\n\u001b[0;32m      3\u001b[0m \u001b[1;32mdel\u001b[0m \u001b[0mx\u001b[0m\u001b[1;33m\u001b[0m\u001b[1;33m\u001b[0m\u001b[0m\n\u001b[1;32m----> 4\u001b[1;33m \u001b[0mprint\u001b[0m\u001b[1;33m(\u001b[0m\u001b[0mx\u001b[0m\u001b[1;33m)\u001b[0m\u001b[1;33m\u001b[0m\u001b[1;33m\u001b[0m\u001b[0m\n\u001b[0m",
      "\u001b[1;31mNameError\u001b[0m: name 'x' is not defined"
     ]
    }
   ],
   "source": [
    "# 20\n",
    "x = {'orange', 'apple', 'pear', 'banana', 'kiwi', 'apple', 'banana'}\n",
    "del x\n",
    "print(x)"
   ]
  },
  {
   "cell_type": "code",
   "execution_count": 144,
   "metadata": {
    "scrolled": true
   },
   "outputs": [
    {
     "name": "stdout",
     "output_type": "stream",
     "text": [
      "Key: [1, 14, 25, 35]\n",
      "Value: [36, 11, 7, 5]\n"
     ]
    }
   ],
   "source": [
    "# 21 (1)\n",
    "dicts = {\n",
    "    1 : 5,\n",
    "    25 : 7,\n",
    "    14 : 11,\n",
    "    35 : 36 }\n",
    "A = list(dicts.keys())\n",
    "B = list(dicts.values())\n",
    "A.sort()\n",
    "print('Key:', A)\n",
    "B.sort(reverse=True)\n",
    "print('Value:', B)"
   ]
  },
  {
   "cell_type": "code",
   "execution_count": null,
   "metadata": {},
   "outputs": [],
   "source": [
    "# 21 (2)\n",
    "dicts = {\n",
    "    1 : 5,\n",
    "    25 : 7,\n",
    "    14 : 11,\n",
    "    35 : 36 }\n",
    "A = list(dicts.keys())\n",
    "B = list(dicts.values())\n",
    "C = A + B\n",
    "C.sort()\n",
    "print('Osoh:', C)\n",
    "C.sort(reverse=True)\n",
    "print('Buurah', C)"
   ]
  },
  {
   "cell_type": "code",
   "execution_count": 138,
   "metadata": {},
   "outputs": [
    {
     "name": "stdout",
     "output_type": "stream",
     "text": [
      "Baina.\n"
     ]
    }
   ],
   "source": [
    "# 22\n",
    "dict1 = { \n",
    "    'Manufacturer': 'Tesla', \n",
    "    'Model': '3', \n",
    "    'Year': 2021 } \n",
    "if 'Model' in dict1:\n",
    "    print('Baina.')\n",
    "else:\n",
    "    print('Baihgui')"
   ]
  },
  {
   "cell_type": "code",
   "execution_count": 139,
   "metadata": {},
   "outputs": [
    {
     "name": "stdout",
     "output_type": "stream",
     "text": [
      "Baina.\n"
     ]
    }
   ],
   "source": [
    "# 23\n",
    "dict1 = { \n",
    "    'Manufacturer': 'Tesla', \n",
    "    'Model': '3', \n",
    "    'Year': 2021 } \n",
    "if '3' in dict1.values():\n",
    "    print('Baina.')\n",
    "else:\n",
    "    print('Baihgui')\n",
    "\n",
    "\n"
   ]
  },
  {
   "cell_type": "code",
   "execution_count": 140,
   "metadata": {},
   "outputs": [
    {
     "name": "stdout",
     "output_type": "stream",
     "text": [
      "Manufacturer Tesla\n",
      "Model 3\n",
      "Year 2021\n"
     ]
    }
   ],
   "source": [
    "# 24\n",
    "dict1 = { \n",
    "    'Manufacturer': 'Tesla', \n",
    "    'Model': '3', \n",
    "    'Year': 2021 } \n",
    "for x,y in dict1.items():\n",
    "    print(x,y)\n"
   ]
  },
  {
   "cell_type": "code",
   "execution_count": 141,
   "metadata": {},
   "outputs": [
    {
     "name": "stdout",
     "output_type": "stream",
     "text": [
      "{'Manufacturer1': 'Tesla', 'Model1': '3', 'Year1': '2021', 'Manufacturer2': 'Toyota', 'Model2': 'LC300', 'Year2': '2022'}\n"
     ]
    }
   ],
   "source": [
    "# 25\n",
    "dict1 = { \n",
    "    'Manufacturer1': 'Tesla', \n",
    "    'Model1': '3', \n",
    "    'Year1': '2021' } \n",
    "dict2 = { \n",
    "    'Manufacturer2': 'Toyota', \n",
    "    'Model2': 'LC300', \n",
    "    'Year2': '2022' }\n",
    "dict1.update(dict2)\n",
    "print(dict1)"
   ]
  },
  {
   "cell_type": "code",
   "execution_count": 142,
   "metadata": {},
   "outputs": [
    {
     "name": "stdout",
     "output_type": "stream",
     "text": [
      "7024\n"
     ]
    }
   ],
   "source": [
    "# 26\n",
    "dict1 = { \n",
    "    'Cost': 5000, \n",
    "    'Model': 3, \n",
    "    'Year': 2021 } \n",
    "y = 0\n",
    "for i in dict1:\n",
    "    y = y + dict1[i]\n",
    "print(y)\n"
   ]
  }
 ],
 "metadata": {
  "kernelspec": {
   "display_name": "Python 3",
   "language": "python",
   "name": "python3"
  },
  "language_info": {
   "codemirror_mode": {
    "name": "ipython",
    "version": 3
   },
   "file_extension": ".py",
   "mimetype": "text/x-python",
   "name": "python",
   "nbconvert_exporter": "python",
   "pygments_lexer": "ipython3",
   "version": "3.8.5"
  }
 },
 "nbformat": 4,
 "nbformat_minor": 4
}
