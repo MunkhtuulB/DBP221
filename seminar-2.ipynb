{
 "cells": [
  {
   "cell_type": "code",
   "execution_count": 12,
   "metadata": {},
   "outputs": [
    {
     "name": "stdout",
     "output_type": "stream",
     "text": [
      "Mun\n"
     ]
    }
   ],
   "source": [
    "# 1\n",
    "x = \"tenet\"\n",
    "\n",
    "y = \"\"\n",
    "for i in x:\n",
    "    y = i + y\n",
    "\n",
    "if (x == y):\n",
    "    print(\"Mun\")\n",
    "else:\n",
    "    print(\"Bish\")"
   ]
  },
  {
   "cell_type": "code",
   "execution_count": 22,
   "metadata": {},
   "outputs": [
    {
     "name": "stdout",
     "output_type": "stream",
     "text": [
      "(6, 22)\n"
     ]
    }
   ],
   "source": [
    "# 2\n",
    "def tooloh(x):\n",
    "    tom = 0\n",
    "    jijig = 0\n",
    "    for ug in x:\n",
    "        for useg in ug:\n",
    "            k = useg.isupper()\n",
    "            if k == True:\n",
    "                tom = tom + 1\n",
    "            else:\n",
    "                jijig = jijig + 1\n",
    "    return (tom, jijig)\n",
    "\n",
    "ugugdul = ['Alabama', 'GeorGia', 'georgia', 'FlOrIda']\n",
    "print(tooloh(ugugdul))\n"
   ]
  },
  {
   "cell_type": "code",
   "execution_count": 24,
   "metadata": {},
   "outputs": [
    {
     "name": "stdout",
     "output_type": "stream",
     "text": [
      "120\n"
     ]
    }
   ],
   "source": [
    "# 3\n",
    "def urjver(x):\n",
    "    urjvr = 1\n",
    "    for i in x:\n",
    "        urjvr = urjvr * i\n",
    "    return urjvr\n",
    "\n",
    "x = [1, 2, 3, 4, 5]\n",
    "print(urjver(x))"
   ]
  },
  {
   "cell_type": "code",
   "execution_count": 31,
   "metadata": {},
   "outputs": [
    {
     "name": "stdout",
     "output_type": "stream",
     "text": [
      "3628800\n"
     ]
    }
   ],
   "source": [
    "# 4\n",
    "def bacterial(x):\n",
    "    urjver = 1\n",
    "    for i in range(x):\n",
    "        i = i + 1\n",
    "        urjver = urjver * i\n",
    "    return urjver\n",
    "\n",
    "print(bacterial(10))"
   ]
  },
  {
   "cell_type": "code",
   "execution_count": 37,
   "metadata": {},
   "outputs": [
    {
     "name": "stdout",
     "output_type": "stream",
     "text": [
      "[8, 7, 6, 5, 1]\n"
     ]
    }
   ],
   "source": [
    "# 5\n",
    "def urvuu(x):\n",
    "    x.reverse()\n",
    "    return x\n",
    "\n",
    "y = [ 1, 5, 6, 7, 8]\n",
    "print(urvuu(y))"
   ]
  },
  {
   "cell_type": "code",
   "execution_count": 33,
   "metadata": {},
   "outputs": [
    {
     "name": "stdout",
     "output_type": "stream",
     "text": [
      "64\n"
     ]
    }
   ],
   "source": [
    "# 6\n",
    "def niilbr(x):\n",
    "    niilber = 0\n",
    "    for i in range(10):\n",
    "        niilber = niilber + y[i]\n",
    "    return niilber\n",
    "\n",
    "y = [1, 5, 10, 3, 4, 17, 12, 1, 2, 9]\n",
    "print(niilbr(y))"
   ]
  },
  {
   "cell_type": "code",
   "execution_count": 13,
   "metadata": {},
   "outputs": [
    {
     "name": "stdout",
     "output_type": "stream",
     "text": [
      "[33, 1, 3, 6, 7, 14]\n"
     ]
    }
   ],
   "source": [
    "# 7\n",
    "def arilgah(x):\n",
    "    x = list(set(x))\n",
    "    return x\n",
    "             \n",
    "b = [3, 6, 7, 3, 33, 14, 14, 1, 6, 3]\n",
    "print(arilgah(b))    "
   ]
  },
  {
   "cell_type": "code",
   "execution_count": 15,
   "metadata": {},
   "outputs": [
    {
     "name": "stdout",
     "output_type": "stream",
     "text": [
      "[3, 6, 7, 33, 14, 1]\n"
     ]
    }
   ],
   "source": [
    "# 7 (2)\n",
    "def arilgah(x):\n",
    "    x = list(dict.fromkeys(x))\n",
    "    return x\n",
    "\n",
    "b = [3, 6, 7, 3, 33, 14, 14, 1, 6, 3]\n",
    "print(arilgah(b))"
   ]
  },
  {
   "cell_type": "code",
   "execution_count": 14,
   "metadata": {},
   "outputs": [
    {
     "name": "stdout",
     "output_type": "stream",
     "text": [
      "90\n"
     ]
    }
   ],
   "source": [
    "# 8\n",
    "def HIU(x):\n",
    "    x.sort()\n",
    "    return x[-1]\n",
    "\n",
    "y = [5, 90, 2]\n",
    "print(HIU(y))"
   ]
  }
 ],
 "metadata": {
  "kernelspec": {
   "display_name": "Python 3",
   "language": "python",
   "name": "python3"
  },
  "language_info": {
   "codemirror_mode": {
    "name": "ipython",
    "version": 3
   },
   "file_extension": ".py",
   "mimetype": "text/x-python",
   "name": "python",
   "nbconvert_exporter": "python",
   "pygments_lexer": "ipython3",
   "version": "3.8.5"
  }
 },
 "nbformat": 4,
 "nbformat_minor": 5
}
