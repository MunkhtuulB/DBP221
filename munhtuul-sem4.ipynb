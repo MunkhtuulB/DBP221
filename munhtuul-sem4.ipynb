{
 "cells": [
  {
   "cell_type": "code",
   "execution_count": 1,
   "metadata": {},
   "outputs": [
    {
     "data": {
      "text/plain": [
       "array([50, 51, 52, 53, 54, 55, 56, 57, 58, 59, 60, 61, 62, 63, 64, 65, 66,\n",
       "       67, 68, 69, 70, 71, 72, 73, 74, 75, 76, 77, 78, 79, 80, 81, 82, 83,\n",
       "       84, 85, 86, 87, 88, 89, 90, 91, 92, 93, 94, 95, 96, 97, 98, 99])"
      ]
     },
     "execution_count": 1,
     "metadata": {},
     "output_type": "execute_result"
    }
   ],
   "source": [
    "# 1\n",
    "import numpy as np\n",
    "x = np.arange(50,100)\n",
    "x"
   ]
  },
  {
   "cell_type": "code",
   "execution_count": 2,
   "metadata": {},
   "outputs": [
    {
     "data": {
      "text/plain": [
       "array([1., 1., 1., 1., 1., 1., 1., 1., 1., 1.])"
      ]
     },
     "execution_count": 2,
     "metadata": {},
     "output_type": "execute_result"
    }
   ],
   "source": [
    "# 2\n",
    "np.ones(10)"
   ]
  },
  {
   "cell_type": "code",
   "execution_count": 3,
   "metadata": {},
   "outputs": [
    {
     "data": {
      "text/plain": [
       "array([0., 0., 0., 0., 0., 0., 0., 0., 0., 0.])"
      ]
     },
     "execution_count": 3,
     "metadata": {},
     "output_type": "execute_result"
    }
   ],
   "source": [
    "# 2\n",
    "np.zeros(10)"
   ]
  },
  {
   "cell_type": "code",
   "execution_count": 4,
   "metadata": {},
   "outputs": [
    {
     "data": {
      "text/plain": [
       "array([6., 6., 6., 6., 6., 6., 6., 6., 6., 6.])"
      ]
     },
     "execution_count": 4,
     "metadata": {},
     "output_type": "execute_result"
    }
   ],
   "source": [
    "# 2\n",
    "np.zeros(10)+6"
   ]
  },
  {
   "cell_type": "code",
   "execution_count": 5,
   "metadata": {},
   "outputs": [
    {
     "name": "stdout",
     "output_type": "stream",
     "text": [
      "[[20 21 22 23]\n",
      " [24 25 26 27]\n",
      " [28 29 30 31]]\n"
     ]
    }
   ],
   "source": [
    "# 3\n",
    "x = np.arange(20,32)\n",
    "y = np.reshape(x, (3,4), 'C')\n",
    "print(y)"
   ]
  },
  {
   "cell_type": "code",
   "execution_count": 6,
   "metadata": {},
   "outputs": [
    {
     "data": {
      "text/plain": [
       "array([[1, 0, 0],\n",
       "       [0, 1, 0],\n",
       "       [0, 0, 1]])"
      ]
     },
     "execution_count": 6,
     "metadata": {},
     "output_type": "execute_result"
    }
   ],
   "source": [
    "# 4\n",
    "a = [1,1,1]\n",
    "arr = np.diag(a)\n",
    "arr"
   ]
  },
  {
   "cell_type": "code",
   "execution_count": 7,
   "metadata": {},
   "outputs": [
    {
     "data": {
      "text/plain": [
       "array([[1, 0, 0, 0, 0],\n",
       "       [0, 2, 0, 0, 0],\n",
       "       [0, 0, 3, 0, 0],\n",
       "       [0, 0, 0, 4, 0],\n",
       "       [0, 0, 0, 0, 5]])"
      ]
     },
     "execution_count": 7,
     "metadata": {},
     "output_type": "execute_result"
    }
   ],
   "source": [
    "# 5\n",
    "x = np.arange(1,6)\n",
    "D = np.diag(x)\n",
    "D"
   ]
  },
  {
   "cell_type": "code",
   "execution_count": 8,
   "metadata": {},
   "outputs": [
    {
     "name": "stdout",
     "output_type": "stream",
     "text": [
      "107\n",
      "[32 27 22 26]\n",
      "[22 56 29]\n"
     ]
    }
   ],
   "source": [
    "# 6\n",
    "import numpy as np\n",
    "b = np.array([[5,6,1,10],[21,15,13,7],[6,6,8,9]])\n",
    "print(sum(sum(b)))\n",
    "print(b.sum(axis=0))\n",
    "print(b.sum(axis=1))"
   ]
  },
  {
   "cell_type": "code",
   "execution_count": 9,
   "metadata": {},
   "outputs": [],
   "source": [
    "# 7 \n",
    "import numpy as np\n",
    "\n",
    "#Seasons\n",
    "Seasons = [\"2012\",\"2013\",\"2014\",\"2015\",\"2016\",\"2017\",\"2018\",\"2019\",\"2020\",\"2021\"]\n",
    "Sdict = {\"2012\":0,\"2013\":1,\"2014\":2,\"2015\":3,\"2016\":4,\"2017\":5,\"2018\":6,\"2019\":7,\"2020\":8,\"2021\":9}\n",
    "\n",
    "#Players\n",
    "Players = [\"KobeBryant\",\"JoeJohnson\",\"LeBronJames\",\"CarmeloAnthony\",\"DwightHoward\",\"ChrisBosh\",\"ChrisPaul\",\"KevinDurant\",\"DerrickRose\",\"DwyaneWade\"]\n",
    "Pdict = {\"KobeBryant\":0,\"JoeJohnson\":1,\"LeBronJames\":2,\"CarmeloAnthony\":3,\"DwightHoward\":4,\"ChrisBosh\":5,\"ChrisPaul\":6,\"KevinDurant\":7,\"DerrickRose\":8,\"DwyaneWade\":9}\n",
    "\n",
    "#Salaries\n",
    "KobeBryant_Salary = [30453805,30453805,23500000,25000000,0,0,0,0,0,0]\n",
    "JoeJohnson_Salary = [19752645,21466718,23180790,261894,11000000,473835,0,1620564,1620564,0]\n",
    "LeBronJames_Salary = [17545000,19067500,20644400,22970500,30963450,33285709,35654150,37436858,39219566,41180544]\n",
    "CarmeloAnthony_Salary = [19444503,21388953,22458401,22875000,24559380,26243760,1512601,1364204,1620564,1669178]\n",
    "DwightHoward_Salary = [19536360,20513178,21436271,22359364,23180275,23819725,5337000,1620564,1620564,1669178]\n",
    "ChrisBosh_Salary = [19067500,19067500,20644400,22192730,23741060,0,0,0,0,0]\n",
    "ChrisPaul_Salary = [18668431,18668431,20068563,21468695,22868827,24599495,35654150,38506482,41358814,30000000]\n",
    "KevinDurant_Salary = [17832626,17832627,18995624,20158622,26540100,0,30000000,38199000,40108950,42018900]\n",
    "DerrickRose_Salary = [17632688,17632688,18862876,20093064,21323252,290951,1512601,7317073,7682927,13445120]\n",
    "DwyaneWade_Salary = [18673000,18673000,15000000,20000000,23200000,0,1512601,1512601,1512601,0]\n",
    "#Matrix\n",
    "Salary = np.array([KobeBryant_Salary, JoeJohnson_Salary, LeBronJames_Salary, CarmeloAnthony_Salary, DwightHoward_Salary, ChrisBosh_Salary, ChrisPaul_Salary, KevinDurant_Salary, DerrickRose_Salary, DwyaneWade_Salary])\n",
    "\n",
    "#Games \n",
    "KobeBryant_G = [78,6,35,66,0,0,0,0,0,0]\n",
    "JoeJohnson_G = [72,79,80,81,78,55,0,0,0,1]\n",
    "LeBronJames_G = [76,77,69,76,74,82,55,67,45,48]\n",
    "CarmeloAnthony_G = [67,77,40,72,74,78,10,58,69,58]\n",
    "DwightHoward_G = [76,71,41,71,74,81,9,69,69,47]\n",
    "ChrisBosh_G = [74,79,44,53,0,0,0,0,0,0]\n",
    "ChrisPaul_G = [70,62,82,74,61,58,58,70,70,58]\n",
    "KevinDurant_G = [81,81,27,72,62,68,78,0,35,40]\n",
    "DerrickRose_G = [0,10,51,66,64,25,51,50,50,26]\n",
    "DwyaneWade_G = [69,54,62,74,60,67,72,0,0,0]\n",
    "#Matrix\n",
    "Games = np.array([KobeBryant_G, JoeJohnson_G, LeBronJames_G, CarmeloAnthony_G, DwightHoward_G, ChrisBosh_G, ChrisPaul_G, KevinDurant_G, DerrickRose_G, DwyaneWade_G])\n",
    "\n",
    "\n",
    "#Field Goals\n",
    "KobeBryant_FG = [738,31,266,398,0,0,0,0,0,0]\n",
    "JoeJohnson_FG = [445,462,446,377,273,146,0,0,0,1]\n",
    "LeBronJames_FG = [765,767,624,737,736,857,558,643,422,536]\n",
    "CarmeloAnthony_FG = [669,743,358,567,602,472,49,336,327,270]\n",
    "DwightHoward_FG = [470,473,251,372,388,506,43,202,178,91]\n",
    "ChrisBosh_FG = [485,492,343,358,0,0,0,0,0,0]\n",
    "ChrisPaul_FG = [412,406,568,515,374,367,302,434,439,325]\n",
    "KevinDurant_FG = [731,849,238,698,551,630,721,0,324,417]\n",
    "DerrickRose_FG = [0,58,338,447,460,81,363,369,287,122]\n",
    "DwyaneWade_FG = [569,415,509,540,414,299,416,0,0,0]\n",
    "#Matrix\n",
    "FieldGoals  = np.array([KobeBryant_FG, JoeJohnson_FG, LeBronJames_FG, CarmeloAnthony_FG, DwightHoward_FG, ChrisBosh_FG, ChrisPaul_FG, KevinDurant_FG, DerrickRose_FG, DwyaneWade_FG])\n",
    "    \n"
   ]
  },
  {
   "cell_type": "code",
   "execution_count": 10,
   "metadata": {},
   "outputs": [
    {
     "name": "stdout",
     "output_type": "stream",
     "text": [
      "Salary Baganiin niilber =  [198606558 204764400 204791325 197379869 207376344 108713475 111183103\n",
      " 127577346 134744550 129982920]\n",
      "Salary Moriin niilber =  [109407610  79377010 297967677 143136544 141092479 104713190 271861888\n",
      " 251686449 125793240 100083803]\n"
     ]
    }
   ],
   "source": [
    "# 7 Salary mor baganiin niilber\n",
    "print(\"Salary Baganiin niilber = \", Salary.sum(axis=0))\n",
    "print(\"Salary Moriin niilber = \", Salary.sum(axis=1))"
   ]
  },
  {
   "cell_type": "code",
   "execution_count": 11,
   "metadata": {},
   "outputs": [
    {
     "name": "stdout",
     "output_type": "stream",
     "text": [
      "Games Baganiin niilber =  [663 596 531 705 547 514 333 314 338 278]\n",
      "Games Moriin niilber =  [185 446 669 603 608 250 663 544 393 458]\n"
     ]
    }
   ],
   "source": [
    "# 7 Games mor baganiin niilber\n",
    "print(\"Games Baganiin niilber = \", Games.sum(axis=0))\n",
    "print(\"Games Moriin niilber = \", Games.sum(axis=1))"
   ]
  },
  {
   "cell_type": "code",
   "execution_count": 12,
   "metadata": {},
   "outputs": [
    {
     "name": "stdout",
     "output_type": "stream",
     "text": [
      "FieldGoals Baganiin niilber =  [5284 4696 3941 5009 3798 3358 2452 1984 1977 1762]\n",
      "FieldGoals Moriin niilber =  [1433 2150 6645 4393 2974 1678 4142 5159 2525 3162]\n"
     ]
    }
   ],
   "source": [
    "# 7 FieldGoals mor baganiin niilber\n",
    "print(\"FieldGoals Baganiin niilber = \", FieldGoals.sum(axis=0))\n",
    "print(\"FieldGoals Moriin niilber = \", FieldGoals.sum(axis=1))"
   ]
  },
  {
   "cell_type": "code",
   "execution_count": null,
   "metadata": {},
   "outputs": [],
   "source": []
  }
 ],
 "metadata": {
  "kernelspec": {
   "display_name": "Python 3",
   "language": "python",
   "name": "python3"
  },
  "language_info": {
   "codemirror_mode": {
    "name": "ipython",
    "version": 3
   },
   "file_extension": ".py",
   "mimetype": "text/x-python",
   "name": "python",
   "nbconvert_exporter": "python",
   "pygments_lexer": "ipython3",
   "version": "3.8.5"
  }
 },
 "nbformat": 4,
 "nbformat_minor": 5
}
